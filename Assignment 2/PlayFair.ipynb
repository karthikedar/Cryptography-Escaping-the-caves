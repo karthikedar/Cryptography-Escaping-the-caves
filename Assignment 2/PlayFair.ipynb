{
 "cells": [
  {
   "cell_type": "code",
   "execution_count": 1,
   "metadata": {},
   "outputs": [],
   "source": [
    "import numpy as np"
   ]
  },
  {
   "cell_type": "code",
   "execution_count": 2,
   "metadata": {},
   "outputs": [],
   "source": [
    "morse_code_chart = {\".-\":'A',\n",
    "                    \"-...\":'B',\n",
    "                    \"-.-.\" : 'C',\n",
    "                    \"-..\" : 'D',\n",
    "                    \".\" : 'E',\n",
    "                    \"..-.\" :'F',\n",
    "                    \"--.\" : 'G',\n",
    "                    \"....\" : 'H',\n",
    "                    \"..\" : 'I',\n",
    "                    \".---\" : 'J',\n",
    "                    \"-.-\" : 'K',\n",
    "                    \".-..\" : 'L',\n",
    "                    \"--\" : 'M',\n",
    "                    \"-.\" : 'N',\n",
    "                    \"---\" : 'O',\n",
    "                    \".--.\" :'P',\n",
    "                    \"--.-\" : 'Q',\n",
    "                    \".-.\" : 'R',\n",
    "                    \"...\" : 'S',\n",
    "                    \"-\" : 'T',\n",
    "                    \"..-\" : 'U',\n",
    "                    \"...-\" : 'V',\n",
    "                    \".--\" : 'W',\n",
    "                    \"-..-\" : 'X',\n",
    "                    \"-.--\" : 'Y',\n",
    "                    \"--..\" : 'Z',\n",
    "                    \".----\" : '1',\n",
    "                    \"..---\" : '2',\n",
    "                    \"...--\" : '3',\n",
    "                    \"....-\" : '4',\n",
    "                    \".....\" : '5',\n",
    "                    \"-....\" : '6',\n",
    "                    \"--...\" : '7',\n",
    "                    \"---..\" : '8',\n",
    "                    \"----.\" : '9',\n",
    "                    \"-----\" : '0'\n",
    "                   }"
   ]
  },
  {
   "cell_type": "code",
   "execution_count": 3,
   "metadata": {},
   "outputs": [],
   "source": [
    "x = \"... . -.-. ..- .-. .. - -.--\"\n",
    "cipher_text = 'TR XYCB MH AFC MUVY EOHPTCS, AFCSS TE QCSI NTYIMS TNA AFCSC. EMRBH XAA VAFR MIUCQPUH \"LMRL_CCETOT\" FN HM AKUXAHK. OTA WANA OTXT FFU EISCWNAF HME BFU MCVA UGTOTRE. BM HYLF IFU UVTY ANE HBSEI QYOQM OUVSF AM EAFTE PYHYS XNSKE IFUSC.'"
   ]
  },
  {
   "cell_type": "code",
   "execution_count": 4,
   "metadata": {},
   "outputs": [],
   "source": [
    "def get_key(pattern):\n",
    "    s_list = pattern.split(\" \")\n",
    "    code = \"\"  \n",
    "    for symbol in s_list:\n",
    "        code += morse_code_chart[symbol]\n",
    "    return code        "
   ]
  },
  {
   "cell_type": "code",
   "execution_count": 5,
   "metadata": {},
   "outputs": [],
   "source": [
    "def generate_key_square(key):\n",
    "    sq = list()\n",
    "    i = 0\n",
    "    for k in key:\n",
    "        sq.append(k)\n",
    "        i+=1\n",
    "    for c in \"ABCDEFGHIKLMNOPQRSTUVWXYZ\":\n",
    "        if c not in sq:\n",
    "            sq.append(c)\n",
    "    return np.array(sq).reshape(5,5)"
   ]
  },
  {
   "cell_type": "code",
   "execution_count": 6,
   "metadata": {},
   "outputs": [],
   "source": [
    "def get_digraphs(text):\n",
    "    d_list = list()\n",
    "    count = 0\n",
    "    s= \"\"\n",
    "    for i,c in enumerate(text):\n",
    "        if c.isalpha():\n",
    "            if count == 0:\n",
    "                s = c\n",
    "                count = 1\n",
    "            elif count == 1:\n",
    "                s += c\n",
    "                count = 0\n",
    "                d_list.append(s)\n",
    "    return d_list"
   ]
  },
  {
   "cell_type": "code",
   "execution_count": 11,
   "metadata": {},
   "outputs": [],
   "source": [
    "def decrypt_text(sq):\n",
    "    d_list = get_digraphs(cipher_text)\n",
    "    p_list = list()\n",
    "    for x in d_list:\n",
    "        row1 = np.where(sq==x[0])[0][0] \n",
    "        col1 = np.where(sq==x[0])[1][0]\n",
    "        row2 = np.where(sq==x[1])[0][0] \n",
    "        col2 = np.where(sq== x[1])[1][0]\n",
    "        \n",
    "        #same row\n",
    "        if row1 == row2:\n",
    "            temp = sq[row1][col1-1] + sq[row2][col2-1]\n",
    "                        \n",
    "        # same column\n",
    "        elif col1 == col2:\n",
    "            temp = sq[row1-1][col1] + sq[row2-1][col2]\n",
    "                \n",
    "        else:\n",
    "            temp = sq[row1][col2] + sq[row2][col1]\n",
    "                   \n",
    "        p_list.append(temp)\n",
    "                        \n",
    "    e_text = \"\".join(p_list)\n",
    "    message = \"\" \n",
    "    i=0\n",
    "    for c in cipher_text:\n",
    "        if c.isalpha():\n",
    "            if e_text[i] == \"X\" and i!=0 and e_text[i-1]==e_text[i+1]:\n",
    "                i += 1\n",
    "            else:\n",
    "                message += e_text[i]\n",
    "                i += 1\n",
    "        else:\n",
    "            message += c\n",
    "    return message\n",
    "                        \n",
    "              \n",
    "              "
   ]
  },
  {
   "cell_type": "code",
   "execution_count": 12,
   "metadata": {},
   "outputs": [
    {
     "name": "stdout",
     "output_type": "stream",
     "text": [
      "SECURITY\n"
     ]
    }
   ],
   "source": [
    "key = get_key(x)\n",
    "print(key)"
   ]
  },
  {
   "cell_type": "code",
   "execution_count": 13,
   "metadata": {},
   "outputs": [
    {
     "name": "stdout",
     "output_type": "stream",
     "text": [
      "[['S' 'E' 'C' 'U' 'R']\n",
      " ['I' 'T' 'Y' 'A' 'B']\n",
      " ['D' 'F' 'G' 'H' 'K']\n",
      " ['L' 'M' 'N' 'O' 'P']\n",
      " ['Q' 'V' 'W' 'X' 'Z']]\n"
     ]
    }
   ],
   "source": [
    "sq=generate_key_square(key)\n",
    "print(sq)"
   ]
  },
  {
   "cell_type": "code",
   "execution_count": 14,
   "metadata": {},
   "outputs": [
    {
     "data": {
      "text/plain": [
       "'BE WARY OF THE NEXT CHAMBER, THERE IS VERY LITTLE IOY THERE. SPEAK OUT THE PASSWORD \"OPEN_SESAME\" TO GO THROUGH. MAY YOU HAVE THE STRENGTH FOR THE NEXT CHAMBER. TO FIND THE EXIT YOU FIRST WILL NEED TO UTTER MAGIC WORDS THERE.'"
      ]
     },
     "execution_count": 14,
     "metadata": {},
     "output_type": "execute_result"
    }
   ],
   "source": [
    "decrypt_text(sq)"
   ]
  },
  {
   "cell_type": "code",
   "execution_count": null,
   "metadata": {},
   "outputs": [],
   "source": []
  },
  {
   "cell_type": "code",
   "execution_count": null,
   "metadata": {},
   "outputs": [],
   "source": []
  },
  {
   "cell_type": "code",
   "execution_count": null,
   "metadata": {},
   "outputs": [],
   "source": []
  },
  {
   "cell_type": "code",
   "execution_count": null,
   "metadata": {},
   "outputs": [],
   "source": []
  }
 ],
 "metadata": {
  "kernelspec": {
   "display_name": "Python 3",
   "language": "python",
   "name": "python3"
  },
  "language_info": {
   "codemirror_mode": {
    "name": "ipython",
    "version": 3
   },
   "file_extension": ".py",
   "mimetype": "text/x-python",
   "name": "python",
   "nbconvert_exporter": "python",
   "pygments_lexer": "ipython3",
   "version": "3.8.5"
  }
 },
 "nbformat": 4,
 "nbformat_minor": 4
}
