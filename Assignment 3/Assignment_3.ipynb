{
 "cells": [
  {
   "cell_type": "code",
   "execution_count": 1,
   "metadata": {},
   "outputs": [],
   "source": [
    "# Given data\n",
    "p = 19807040628566084398385987581\n",
    "pairs = {\n",
    "            \"pair1\" : (324,  11226815350263531814963336315),\n",
    "            \"pair2\" : (2345, 9190548667900274300830391220),\n",
    "            \"pair3\" : (9513, 4138652629655613570819000497)\n",
    "        }"
   ]
  },
  {
   "cell_type": "code",
   "execution_count": 2,
   "metadata": {},
   "outputs": [],
   "source": [
    "#Function to calculate modular inverse (based on Fermat's Theorem) \n",
    "\n",
    "def inv(n):\n",
    "    return pow(n,p-2,p) # a^(-1) = a^(p-2) mod p"
   ]
  },
  {
   "cell_type": "code",
   "execution_count": 3,
   "metadata": {},
   "outputs": [],
   "source": [
    "#Function to calculate g\n",
    "def cal_g(x,y):\n",
    "    global p\n",
    "    z = x%y\n",
    "    t = x//y\n",
    "    g[z] = (g[x] * inv(pow(g[y],t,p)))%p\n",
    "    \n",
    "    if z!=1:\n",
    "        cal_g(y,z) #recursively call the function until the power of g becomes 1"
   ]
  },
  {
   "cell_type": "code",
   "execution_count": 4,
   "metadata": {},
   "outputs": [],
   "source": [
    "a = pairs[\"pair1\"][1]\n",
    "b = pairs[\"pair2\"][1]\n",
    "c = pairs[\"pair3\"][1]\n",
    "g= dict()\n",
    "\n",
    "\n",
    "g[7168] = (c * inv(b))%p   # g^(7168) = (c*b^(-1)) mod p\n",
    "g[2021] = (b * inv(a))%p   # g^(2021) = (b*a^(-1)) mod p\n",
    "g[9189] = (c * inv(a))%p   # g^(9189) = (c*a^(-1)) mod p"
   ]
  },
  {
   "cell_type": "code",
   "execution_count": null,
   "metadata": {},
   "outputs": [],
   "source": []
  },
  {
   "cell_type": "code",
   "execution_count": 5,
   "metadata": {},
   "outputs": [],
   "source": [
    "cal_g(7168,2021)"
   ]
  },
  {
   "cell_type": "code",
   "execution_count": null,
   "metadata": {},
   "outputs": [],
   "source": []
  },
  {
   "cell_type": "code",
   "execution_count": null,
   "metadata": {},
   "outputs": [],
   "source": []
  },
  {
   "cell_type": "code",
   "execution_count": 6,
   "metadata": {},
   "outputs": [],
   "source": [
    "a = pairs[\"pair1\"][0] \n",
    "x = pairs[\"pair1\"][1] \n",
    "\n",
    "password  = (x * inv(pow(g[1],a,p)))%p  # password = (x * (g^a)^(-1)) mod p"
   ]
  },
  {
   "cell_type": "code",
   "execution_count": 7,
   "metadata": {},
   "outputs": [
    {
     "data": {
      "text/plain": [
       "3608528850368400786036725"
      ]
     },
     "execution_count": 7,
     "metadata": {},
     "output_type": "execute_result"
    }
   ],
   "source": [
    "password"
   ]
  },
  {
   "cell_type": "code",
   "execution_count": null,
   "metadata": {},
   "outputs": [],
   "source": []
  },
  {
   "cell_type": "code",
   "execution_count": null,
   "metadata": {},
   "outputs": [],
   "source": []
  },
  {
   "cell_type": "code",
   "execution_count": null,
   "metadata": {},
   "outputs": [],
   "source": []
  },
  {
   "cell_type": "code",
   "execution_count": null,
   "metadata": {},
   "outputs": [],
   "source": []
  },
  {
   "cell_type": "code",
   "execution_count": null,
   "metadata": {},
   "outputs": [],
   "source": []
  }
 ],
 "metadata": {
  "kernelspec": {
   "display_name": "Python 3",
   "language": "python",
   "name": "python3"
  },
  "language_info": {
   "codemirror_mode": {
    "name": "ipython",
    "version": 3
   },
   "file_extension": ".py",
   "mimetype": "text/x-python",
   "name": "python",
   "nbconvert_exporter": "python",
   "pygments_lexer": "ipython3",
   "version": "3.8.5"
  }
 },
 "nbformat": 4,
 "nbformat_minor": 4
}
