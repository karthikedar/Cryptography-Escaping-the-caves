{
  "nbformat": 4,
  "nbformat_minor": 0,
  "metadata": {
    "colab": {
      "name": "Crypto-Assignment7.ipynb",
      "provenance": [],
      "collapsed_sections": []
    },
    "kernelspec": {
      "name": "python3",
      "display_name": "Python 3"
    },
    "language_info": {
      "name": "python"
    }
  },
  "cells": [
    {
      "cell_type": "code",
      "metadata": {
        "id": "intended-elevation"
      },
      "source": [
        "import numpy as np"
      ],
      "execution_count": null,
      "outputs": []
    },
    {
      "cell_type": "code",
      "metadata": {
        "id": "dressed-exchange"
      },
      "source": [
        "hexa = ['0', '1', '2', '3', '4', '5', '6', '7', '8', '9', 'A', 'B', 'C', 'D', 'E', 'F']"
      ],
      "execution_count": null,
      "outputs": []
    },
    {
      "cell_type": "code",
      "metadata": {
        "id": "6j4bND5cOPwS"
      },
      "source": [
        "chi_inverse = {\n",
        "        '00000':'00000',\n",
        "        '00101':'00001',\n",
        "        '01010':'00010',\n",
        "        '01011':'00011',\n",
        "        '10100':'00100',\n",
        "        '10001':'00101',\n",
        "        '10110':'00110',\n",
        "        '10111':'00111',\n",
        "        '01001':'01000',\n",
        "        '01100':'01001',\n",
        "        '00011':'01010',\n",
        "        '00010':'01011',\n",
        "        '01101':'01100',\n",
        "        '01000':'01101',\n",
        "        '01111':'01110',\n",
        "        '01110':'01111',\n",
        "        '10010':'10000',\n",
        "        '10101':'10001',\n",
        "        '11000':'10010',\n",
        "        '11011':'10011',\n",
        "        '00110':'10100',\n",
        "        '00001':'10101',\n",
        "        '00100':'10110',\n",
        "        '00111':'10111',\n",
        "        '11010':'11000',\n",
        "        '11101':'11001',\n",
        "        '10000':'11010',\n",
        "        '10011':'11011',\n",
        "        '11110':'11100',\n",
        "        '11001':'11101',\n",
        "        '11100':'11110',\n",
        "        '11111':'11111',\n",
        "        }\n"
      ],
      "execution_count": null,
      "outputs": []
    },
    {
      "cell_type": "code",
      "metadata": {
        "id": "acW6BwmU_5I7"
      },
      "source": [
        "myhash2=\"08060E02000000000E078E8266E964E1696E6E62000000006168606000000000\"\n",
        "myhash1=\"61686060000000000601808066E964E16F6FEEE266E964E10E078E8266E964E1\""
      ],
      "execution_count": null,
      "outputs": []
    },
    {
      "cell_type": "code",
      "metadata": {
        "id": "Fozm33Z5_8ov"
      },
      "source": [
        "rounds = 24\n",
        "#current_round=23\n",
        "r=576\n",
        "b=1600\n",
        "c=1024"
      ],
      "execution_count": null,
      "outputs": []
    },
    {
      "cell_type": "code",
      "metadata": {
        "id": "2SoYXfDHAAsR"
      },
      "source": [
        "def break_sha(cipher_hash,rounds): \n",
        "    k=256-4\n",
        "    l= 512\n",
        "    empty_array =[0]*5*5*64\n",
        "    state = np.array(empty_array).reshape(5,5,64)\n",
        "    c_ind =len(cipher_hash)-1 \n",
        "\n",
        "    while k>=0:\n",
        "        index = hexa.index(cipher_hash[c_ind])\n",
        "        for j in range(0,4,1):\n",
        "            state[k//(64*5)][(k//64)%5][k%64 + j] = index%2\n",
        "            index = index//2    \n",
        "        k-=4\n",
        "        c_ind -=1\n",
        "    \n",
        "    current_round = rounds-1\n",
        "    tempstate = np.array(empty_array).reshape(5,5,64)\n",
        "\n",
        "    while current_round>0:\n",
        "          #reverse chi\n",
        "          for i in range(0,5):\n",
        "            for k in range(0,64):\n",
        "                t=\"\"\n",
        "                s=\"\"\n",
        "                for j in range(0,5):\n",
        "                  s += str(state[i][j][k])\n",
        "                t = chi_inverse[s]\n",
        "                for j in range(0,5):\n",
        "                  tempstate[i][j][k] = t[j]\n",
        "\n",
        "          state = tempstate.copy()\n",
        "\n",
        "          #reverse pi\n",
        "          for i in range(5):\n",
        "            for j in range(5):\n",
        "                for k in range(64):\n",
        "                  tempstate[i][j][k] = state[j][((2 * i) + (3 * j)) % 5][k]\n",
        "\n",
        "          #reverse theta\n",
        "          state= tempstate.copy()\n",
        "          column_parity = np.zeros((5,64),dtype='int')\n",
        "          for i in range(0,5):\n",
        "              for k in range(64):\n",
        "                  column_parity[i][k] = 0\n",
        "                  #for j in range(5):\n",
        "                  column_parity[i][k] ^= tempstate[i][0][k] ^ tempstate[i][1][k] ^ tempstate[i][2][k] ^ tempstate[i][3][k] ^ tempstate[i][4][k]\n",
        "\n",
        "          for i in range(0,5):\n",
        "            for k in range(64):\n",
        "                #for j in range(5):\n",
        "                c = column_parity[(i+2)%5][k] ^ column_parity[(i+3)%5][k]\n",
        "                state[i][0][k] = tempstate[i][0][k] ^ c\n",
        "                state[i][1][k] = tempstate[i][1][k] ^ c\n",
        "                state[i][2][k] = tempstate[i][2][k] ^ c\n",
        "                state[i][3][k] = tempstate[i][3][k] ^ c\n",
        "                state[i][4][k] = tempstate[i][4][k] ^ c\n",
        "\n",
        "          current_round -= 1\n",
        "\n",
        "\n",
        "    message = np.zeros(r,dtype='int')\n",
        "    for k in range(r):\n",
        "\t\t    message[k] = state[k//(64*5)][(k//64) % 5][k%64] \n",
        "\n",
        "\n",
        "    password = \"\"\n",
        "    for i in range(0,r,8):\n",
        "        tmp = [str(x) for x in message[i:i+8]]\n",
        "        tmp =  chr(int(\"\".join(tmp),2))\n",
        "        if tmp.isalnum():\n",
        "            password +=\"\"+tmp\n",
        "        else:\n",
        "            password+=\" \"\n",
        "\n",
        "\n",
        "    return password "
      ],
      "execution_count": null,
      "outputs": []
    },
    {
      "cell_type": "code",
      "metadata": {
        "colab": {
          "base_uri": "https://localhost:8080/"
        },
        "id": "AlqYyJ6SAIn2",
        "outputId": "9d80731e-fbe0-46bd-a889-ad3cfc184fbd"
      },
      "source": [
        "print(break_sha(myhash1,rounds))\n",
        "print(break_sha(myhash2,rounds))"
      ],
      "execution_count": null,
      "outputs": [
        {
          "output_type": "stream",
          "text": [
            "    fybx    fybxoowtfybx    fybx    fybx            fybx    fybx    fybx\n",
            "oowtfybx        ha                      iggd    iggd    nippfybxoowtfybx\n"
          ],
          "name": "stdout"
        }
      ]
    }
  ]
}