{
 "cells": [
  {
   "cell_type": "code",
   "execution_count": 2,
   "id": "rotary-anderson",
   "metadata": {},
   "outputs": [],
   "source": [
    "import numpy as np"
   ]
  },
  {
   "cell_type": "code",
   "execution_count": 3,
   "id": "instant-panic",
   "metadata": {},
   "outputs": [],
   "source": [
    "initial_permutation = [[58,50,42,34,26,18,10,2],\n",
    "                      [60,52,44,36,28,20,12,4],\n",
    "                      [62,54,46,38,30,22,14,6],\n",
    "                      [64,56,48,40,32,24,16,8],\n",
    "                      [57,49,41,33,25,17,9,1],\n",
    "                      [59,51,43,35,27,19,11,3],\n",
    "                       [61,53,45,37,29,21,13,5],\n",
    "                      [63,55,47,39,31,23,15,7]] \n",
    "\n",
    "rev_initial_permutation = [[40,8,48,16,56,24,64,32],\n",
    "                    [39,7,47,15,55,23,63,31],\n",
    "                    [38,6,46,14,54,22,62,30],\n",
    "                    [37,5,45,13,53,21,61,29],\n",
    "                    [36,4,44,12,52,20,60,28],\n",
    "                    [35,3,43,11,51,19,59,27],\n",
    "                    [34,2,42,10,50,18,58,26],\n",
    "                    [33,1,41,9,49,17,57,25]]\n",
    "\n",
    "rev_final_permutation= [[57, 49, 41, 33, 25, 17, 9, 1],\n",
    "                       [59, 51, 43, 35, 27, 19, 11, 3],\n",
    "                       [61, 53, 45, 37, 29, 21, 13, 5],\n",
    "                       [63, 55, 47, 39, 31, 23, 15, 7],\n",
    "                       [58, 50, 42, 34, 26, 18, 10, 2],\n",
    "                       [60, 52, 44, 36, 28, 20, 12, 4],\n",
    "                       [62, 54, 46, 38, 30, 22, 14, 6],\n",
    "                       [64, 56, 48, 40, 32, 24, 16, 8]]\n",
    "\n",
    "final_permutation=[[8, 40, 16, 48, 24, 56, 32, 64],\n",
    "                        [7, 39, 15, 47, 23, 55, 31, 63],\n",
    "                        [6, 38, 14, 46, 22, 54, 30, 62],\n",
    "                        [5, 37, 13, 45, 21, 53, 29, 61],\n",
    "                        [4, 36, 12, 44, 20, 52, 28, 60],\n",
    "                        [3, 35, 11, 43, 19, 51, 27, 59],\n",
    "                        [2, 34, 10, 42, 18, 50, 26, 58],\n",
    "                        [1, 33, 9,  41, 17, 49, 25, 57]]\n",
    "\n",
    "expansion = [32,1,2,3,4,5,4,5,6,7,8,9,8,9,10,11,12,13,12,13,14,15,16,17,16,17,\n",
    "             18,19,20,21,20,21,22,23,24,25,24,25,26,27,28,29,28,29,30,31,32,1]\n",
    "\n",
    "permutation = [16,7,20,21,29,12,28,17,1,15,23,26,5,18,31,10,2,8,24,14,32,27,3,9,19,13,30,6,22,11,4,25]\n",
    "\n",
    "inv_permutation = [9,17,23,31,13,28,2,18,24,16,30,6,26,20,10,1,8,14,25,3,4,29,11,19,32,12,22,7,5,27,15,21]\n",
    "\n",
    "s_blocks={\n",
    "            1:[ [14, 4, 13, 1, 2, 15, 11, 8, 3 , 10, 6, 12, 5, 9, 0, 7],\n",
    "                [0, 15, 7, 4, 14, 2, 13, 1, 10, 6, 12, 11, 9, 5, 3, 8],\n",
    "                [4, 1 , 14, 8, 13, 6, 2, 11, 15, 12, 9, 7,3, 10, 5, 0],\n",
    "                [15, 12, 8,2,4, 9, 1,7 , 5, 11, 3, 14, 10, 0, 6, 13 ]],\n",
    "    \n",
    "            2:[ [15, 1, 8, 14, 6, 11, 3, 4, 9, 7, 2, 13, 12, 0,5, 10],\n",
    "                [3, 13, 4, 7, 15, 2, 8, 14, 12, 0, 1, 10, 6, 9, 11, 5],\n",
    "                [0, 14, 7, 11, 10, 4, 13, 1, 5, 8,12, 6, 9, 3, 2, 15],\n",
    "                [13, 8, 10, 1, 3, 15, 4, 2,11,6, 7, 12, 0,5, 14, 9]],\n",
    "    \n",
    "            3:[[ 10, 0, 9,14,6,3,15,5, 1, 13, 12, 7, 11, 4,2,8],\n",
    "               [13, 7, 0, 9, 3, 4, 6, 10, 2, 8, 5, 14, 12, 11, 15, 1],\n",
    "               [13, 6, 4, 9, 8, 15, 3, 0, 11, 1, 2, 12,5, 10, 14, 7],\n",
    "               [1, 10, 13, 0, 6, 9, 8, 7, 4, 15, 14, 3, 11, 5, 2, 12]],\n",
    "    \n",
    "            4:[[7, 13, 14, 3, 0, 6, 9, 10, 1, 2, 8, 5, 11, 12, 4, 15],\n",
    "               [13, 8, 11, 5, 6, 15, 0, 3, 4, 7, 2, 12, 1, 10, 14, 9],\n",
    "               [10, 6, 9, 0, 12, 11, 7, 13, 15, 1 , 3, 14, 5, 2, 8, 4],\n",
    "               [3, 15, 0, 6, 10, 1, 13, 8, 9, 4, 5, 11, 12, 7, 2, 14]],\n",
    "    \n",
    "            5:[[2, 12, 4, 1, 7, 10, 11, 6, 8, 5, 3, 15, 13, 0, 14, 9],\n",
    "               [14, 11,2, 12, 4, 7, 13, 1, 5, 0, 15, 10, 3, 9, 8, 6],\n",
    "               [4, 2, 1, 11, 10, 13, 7, 8, 15, 9, 12, 5, 6, 3, 0, 14],\n",
    "               [11, 8, 12, 7, 1, 14, 2, 13, 6, 15, 0, 9, 10, 4, 5, 3]],\n",
    "    \n",
    "            6:[[12, 1, 10, 15, 9, 2, 6,8, 0, 13, 3, 4, 14, 7, 5, 11],\n",
    "               [10, 15, 4, 2, 7, 12, 9, 5, 6, 1, 13, 14, 0, 11, 3, 8],\n",
    "               [9, 14, 15, 5, 2,8, 12, 3, 7, 0, 4, 10, 1, 13, 11, 6],\n",
    "               [4, 3, 2, 12, 9, 5, 15, 10, 11, 14, 1, 7, 6, 0, 8, 13]],\n",
    "    \n",
    "            7:[[4, 11, 2, 14, 15, 0, 8, 13, 3, 12, 9, 7, 5, 10, 6, 1],\n",
    "               [13, 0, 11, 7, 4, 9, 1, 10, 14, 3, 5, 12, 2, 15, 8, 6],\n",
    "               [1, 4, 11, 13, 12, 3, 7, 14, 10, 15, 6, 8, 0, 5, 9, 2],\n",
    "               [6, 11, 13, 8, 1, 4, 10, 7, 9, 5, 0, 15, 14, 2, 3, 12]],\n",
    "    \n",
    "            8:[[13, 2, 8, 4, 6, 15, 11, 1, 10, 9, 3, 14, 5, 0, 12,7],\n",
    "               [1, 15, 13, 8, 10, 3, 7, 4, 12, 5, 6, 11, 0, 14, 9, 2],\n",
    "               [7, 11, 4, 1, 9, 12, 14, 2, 0, 6, 10, 13, 15, 3, 5, 8],\n",
    "               [2, 1, 14, 7, 4, 10, 8, 13, 15, 12, 9, 0, 3, 5, 6, 11]]\n",
    "         }\n",
    "\n",
    "parity_bit_drop_table = [57,49,41,33,25,17,9,1,58,50,42,34,26,18,10,2,59,51,43,35,27,19,11,3,60,52,44,36,\n",
    "                        63,55,47,39,31,23, 15,7,62,54,46,38,30,22,14,6,61,53,45,37,29,21,13,5,28,20,12,4]\n",
    "\n",
    "shift_left_table = [1, 1, 2, 2, 2, 2, 2, 2, 1, 2, 2, 2, 2, 2, 2, 1]\n",
    "\n",
    "key_compression_table = [14,17,11,24,1,5,3,28,15,6,21,10,23,19,12,4,26,8,16,7,27,20,13,2,41,\n",
    "                         52,31,37,47,55,30,40,51,45,33,48,44,49,39,56,34,53,46,42,50,36,29,32]\n"
   ]
  },
  {
   "cell_type": "code",
   "execution_count": null,
   "id": "north-extraction",
   "metadata": {},
   "outputs": [],
   "source": []
  },
  {
   "cell_type": "code",
   "execution_count": 4,
   "id": "generous-inside",
   "metadata": {},
   "outputs": [],
   "source": [
    "def apply_initial_permutation(n):\n",
    "    n = n.replace(\" \",\"\")\n",
    "    if len(n)==16:\n",
    "        n = hex_to_bin(n)\n",
    "    t = \"\"\n",
    "    for i,c in enumerate(n):\n",
    "        t += n[initial_permutation[i//8][i%8]-1]\n",
    "    return t\n",
    "\n",
    "\n",
    "def apply_final_permutation(n):\n",
    "    n = n.replace(\" \",\"\")\n",
    "    if len(n)==16:\n",
    "        n = hex_to_bin(n)\n",
    "    t = \"\"\n",
    "    for i,c in enumerate(n):\n",
    "        t += n[final_permutation[i//8][i%8]-1]\n",
    "    return t\n",
    "\n",
    "def apply_rev_initial_permutation(n):\n",
    "    n = n.replace(\" \",\"\")\n",
    "    if len(n)==16:\n",
    "        n = hex_to_bin(n)\n",
    "    t = \"\"\n",
    "    for i,c in enumerate(n):\n",
    "        t += n[rev_initial_permutation[i//8][i%8]-1]\n",
    "    return t\n",
    "\n",
    "def apply_rev_final_permutation(n):\n",
    "    n = n.replace(\" \",\"\")\n",
    "    if len(n)==16:\n",
    "        n = hex_to_bin(n)\n",
    "    t = \"\"\n",
    "    for i,c in enumerate(n):\n",
    "        t += n[rev_final_permutation[i//8][i%8]-1]\n",
    "    return t\n",
    "\n",
    "def apply_permutation(n):\n",
    "    n = n.replace(\" \",\"\")\n",
    "    t=\"\"\n",
    "    for i,c in enumerate(n):\n",
    "        t += n[permutation[i]-1]\n",
    "    return t\n",
    "\n",
    "\n",
    "def apply_inv_permutation(n):\n",
    "    n = n.replace(\" \",\"\")\n",
    "    t=\"\"\n",
    "    for i,c in enumerate(n):\n",
    "        t += n[inv_permutation[i]-1]\n",
    "    return t\n",
    "\n",
    "\n",
    "def hex_to_bin(n):\n",
    "    n=n.replace(\" \",\"\")\n",
    "    s= \"\"\n",
    "    for c in n:\n",
    "        if c.isalpha():\n",
    "            c = ord(c.lower())-87\n",
    "        s += \"{:0>4b}\".format(int(c))\n",
    "    return s\n",
    "\n",
    "def bin_to_hex(n):\n",
    "    s=\"\"\n",
    "    for i in range(0,len(n),4):\n",
    "        s += \"{:x}\".format(int(n[i:i+4],2))\n",
    "    return s\n",
    "\n",
    "def bin_to_str(n):\n",
    "    t=\"\"\n",
    "    for i in range(0,len(n),4):\n",
    "        t += chr(ord('f') + int(n[i:i+4],2) )\n",
    "    return t\n",
    "\n",
    "def str_to_bin(n):\n",
    "    t=\"\"\n",
    "    for i in n:\n",
    "        t += \"{:0>4b}\".format(ord(i) - 102) \n",
    "    return t\n",
    "\n",
    "def apply_expansion(n):\n",
    "    n=n.replace(\" \",\"\")\n",
    "    t=\"\"\n",
    "    if len(n) == 8:\n",
    "        n = hex_to_bin(n)\n",
    "        \n",
    "    if len(n) == 32:\n",
    "        for i in range(48):\n",
    "            t += n[expansion[i]-1]\n",
    "    return t\n",
    "        \n",
    "def apply_sbox(n,box):\n",
    "    t=\"\"\n",
    "    row = int(n[0]+n[5],2)\n",
    "    col = int(n[1:5],2)\n",
    "    t +=  \"{0:0>4b}\".format(s_blocks[box][row][col])\n",
    "    return t\n",
    "\n",
    "def bitwise_xor(a,b,l):\n",
    "    t=\"\"\n",
    "    for i in range(l):\n",
    "        t += str( int(a[i]) ^ int(b[i]))\n",
    "    return t\n",
    "\n",
    "def left_shift_key(n,shifts):\n",
    "    if type(n)==list:\n",
    "        while(shifts>0):\n",
    "            n.append(n.pop(0))\n",
    "            shifts -=1\n",
    "        return n\n",
    "    \n",
    "def generate_input(diff,x):\n",
    "    inputs =[]\n",
    "    for i in range(x):\n",
    "        t1 = [int(c) for c in \"{0:0>64b}\".format(i)]\n",
    "        t2 = bitwise_xor(t1,diff,64)\n",
    "        \n",
    "        t1 = \"\".join(list(str(c) for c in t1))\n",
    "        t2 = \"\".join(list(str(c) for c in t2))\n",
    "\n",
    "        inputs.append(bin_to_str(t1))\n",
    "        inputs.append(bin_to_str(t2))\n",
    "    return inputs"
   ]
  },
  {
   "cell_type": "code",
   "execution_count": null,
   "id": "another-treaty",
   "metadata": {},
   "outputs": [],
   "source": []
  },
  {
   "cell_type": "markdown",
   "id": "undefined-sensitivity",
   "metadata": {},
   "source": [
    "# Fetch data from input and output files"
   ]
  },
  {
   "cell_type": "code",
   "execution_count": 5,
   "id": "approximate-hearing",
   "metadata": {},
   "outputs": [],
   "source": [
    "file = open(\"plaintext.txt\",'r')\n",
    "input_list = [x[:-1] for x in file.readlines()]\n",
    "file = open(\"ciphertext.txt\")\n",
    "output_list= [x[:-1] for x in file.readlines()]"
   ]
  },
  {
   "cell_type": "code",
   "execution_count": 6,
   "id": "suspected-marshall",
   "metadata": {},
   "outputs": [],
   "source": [
    "file = open(\"plaintext1.txt\")\n",
    "input_list1 = [x[:-1] for x in file.readlines()]\n",
    "file = open(\"ciphertext1.txt\")\n",
    "output_list1 = [x[:-1] for x in file.readlines()]"
   ]
  },
  {
   "cell_type": "markdown",
   "id": "likely-change",
   "metadata": {},
   "source": [
    "# DES Differential Cryptanalysis"
   ]
  },
  {
   "cell_type": "code",
   "execution_count": 7,
   "id": "victorian-channel",
   "metadata": {},
   "outputs": [],
   "source": [
    "bin_input_list = [ str_to_bin(c) for c in output_list ] \n",
    "bin_input_list1 = [ str_to_bin(c) for c in output_list1 ] "
   ]
  },
  {
   "cell_type": "code",
   "execution_count": null,
   "id": "circular-november",
   "metadata": {},
   "outputs": [],
   "source": []
  },
  {
   "cell_type": "markdown",
   "id": "automatic-victor",
   "metadata": {},
   "source": [
    "### Reverse final Permutation"
   ]
  },
  {
   "cell_type": "code",
   "execution_count": 8,
   "id": "graphic-spending",
   "metadata": {},
   "outputs": [],
   "source": [
    "#L6 R6\n",
    "inv_fper = [apply_rev_final_permutation(x)  for x in bin_input_list] \n",
    "inv_fper1 = [apply_rev_final_permutation(x)  for x in bin_input_list1]"
   ]
  },
  {
   "cell_type": "markdown",
   "id": "swiss-april",
   "metadata": {},
   "source": [
    "### Expansion"
   ]
  },
  {
   "cell_type": "code",
   "execution_count": 9,
   "id": "polish-championship",
   "metadata": {},
   "outputs": [],
   "source": [
    "# Since R5 = L6\n",
    "ex_out = [apply_expansion(x[0:32])  for x in inv_fper] \n",
    "ex_out1 = [apply_expansion(x[0:32])  for x in inv_fper1] "
   ]
  },
  {
   "cell_type": "markdown",
   "id": "funny-netscape",
   "metadata": {},
   "source": [
    "### XORed input to S-boxes"
   ]
  },
  {
   "cell_type": "code",
   "execution_count": 10,
   "id": "little-airport",
   "metadata": {},
   "outputs": [],
   "source": [
    "s_in_xor = [bitwise_xor(ex_out[i],ex_out[i+1],48) for i in range(0,len(ex_out),2)] \n",
    "s_in_xor1 = [bitwise_xor(ex_out1[i],ex_out1[i+1],48) for i in range(0,len(ex_out1),2)]"
   ]
  },
  {
   "cell_type": "code",
   "execution_count": null,
   "id": "alien-jungle",
   "metadata": {},
   "outputs": [],
   "source": []
  },
  {
   "cell_type": "markdown",
   "id": "north-copper",
   "metadata": {},
   "source": [
    "### XORed Fiestal output"
   ]
  },
  {
   "cell_type": "code",
   "execution_count": 39,
   "id": "sufficient-village",
   "metadata": {},
   "outputs": [],
   "source": [
    "in_xor = [bitwise_xor(inv_fper[i],inv_fper[i+1],64) for i in range(0,len(inv_fper),2)] \n",
    "#L5= hex_to_bin(\"04000000\")\n",
    "## Fiestal XORED Output, XOR of L5 and R6\n",
    "#f_out = [bitwise_xor(L5,x[32:],32) for x in in_xor] \n",
    "f_out = [x[32:] for x in in_xor[:120]]\n",
    "\n",
    "in_xor1 = [bitwise_xor(inv_fper1[i],inv_fper1[i+1],64) for i in range(0,len(inv_fper1),2)] \n",
    "#L5= hex_to_bin(\"00000400\")\n",
    "## Fiestal XORED Output, XOR of L5 and R6\n",
    "#f_out1 = [bitwise_xor(L5,x[32:],32) for x in in_xor1] \n",
    "f_out1 = [x[32:] for x in in_xor1[:120]]"
   ]
  },
  {
   "cell_type": "markdown",
   "id": "continental-impossible",
   "metadata": {},
   "source": [
    "### Inverse Permutation"
   ]
  },
  {
   "cell_type": "code",
   "execution_count": 40,
   "id": "southwest-ivory",
   "metadata": {},
   "outputs": [],
   "source": [
    "inv_perm = [apply_inv_permutation(x) for x in f_out] \n",
    "inv_perm1 = [apply_inv_permutation(x) for x in f_out1] "
   ]
  },
  {
   "cell_type": "code",
   "execution_count": null,
   "id": "coupled-makeup",
   "metadata": {},
   "outputs": [],
   "source": []
  },
  {
   "cell_type": "code",
   "execution_count": null,
   "id": "tracked-textbook",
   "metadata": {},
   "outputs": [],
   "source": []
  },
  {
   "cell_type": "markdown",
   "id": "honey-sacrifice",
   "metadata": {},
   "source": [
    "## Finding key"
   ]
  },
  {
   "cell_type": "markdown",
   "id": "meaning-seeking",
   "metadata": {},
   "source": [
    "#### For characteristic 1"
   ]
  },
  {
   "cell_type": "code",
   "execution_count": 41,
   "id": "enclosed-contact",
   "metadata": {},
   "outputs": [],
   "source": [
    "keys = np.zeros((8,64),dtype=int)\n",
    "for i in range(len(inv_perm)):  \n",
    "    for box in range(0,8):\n",
    "        t_s_in_xor = s_in_xor[i][box*6:box*6+6]\n",
    "        t_s_out_xor = inv_perm[i][box*4:box*4+4]\n",
    "        t_ex_out1 = ex_out[2*i][box*6:box*6+6]\n",
    "\n",
    "        #Finding pairs (beta,beta') such that beta^beta'== s_in and S(beta)^S(beta') == gamma^gamma'\n",
    "        for a in range(0,64):\n",
    "            a1 = \"{:0>6b}\".format(a)                                   \n",
    "            a2 = bitwise_xor(a1,t_s_in_xor,6)\n",
    "            s_a1_xor_a2 = bitwise_xor( apply_sbox(a1,box+1), apply_sbox(a2,box+1),4)\n",
    "            \n",
    "            #check if S(a1)^S(a2) == gamma^gamma'\n",
    "            if s_a1_xor_a2 == t_s_out_xor:\n",
    "                key = bitwise_xor(t_ex_out1,a1,6)\n",
    "                keys[box][int(key,2)]+=1    \n"
   ]
  },
  {
   "cell_type": "code",
   "execution_count": 42,
   "id": "brown-dynamics",
   "metadata": {},
   "outputs": [],
   "source": [
    "avg=[0,0,0,0,0,0,0,0]\n",
    "for i in range(8):\n",
    "    avg[i-1]= keys[i-1].mean()\n",
    "key_set =[-1] * 56  \n",
    "k6 = ['#']*48\n",
    "for i in range(8):\n",
    "    max_key_val = keys[i].max()\n",
    "    #if max_key_val>avg[i]:\n",
    "    if i+1 in [2,5,6,7,8]:\n",
    "        k6[6*i:6*i+6] = [c for c in \"{:0>6b}\".format(np.where(keys[i]==keys[i].max())[0][0])] "
   ]
  },
  {
   "cell_type": "code",
   "execution_count": null,
   "id": "similar-royalty",
   "metadata": {},
   "outputs": [],
   "source": []
  },
  {
   "cell_type": "code",
   "execution_count": 43,
   "id": "gorgeous-harvey",
   "metadata": {},
   "outputs": [],
   "source": [
    "k=parity_bit_drop_table\n",
    "t=['#']*48\n",
    "m_key64 = ['#']*64\n",
    "m_key56 = ['#']*56\n",
    "\n",
    "for r in range(1,6+1):\n",
    "    left = k[0:28]\n",
    "    right = k[28:]\n",
    "    left = left_shift_key(left, shift_left_table[r-1])\n",
    "    right = left_shift_key(right, shift_left_table[r-1])\n",
    "    k = left + right\n",
    "    \n",
    "    for j in range(0,48):\n",
    "        t[j] = k[key_compression_table[j]-1]\n",
    "\n",
    "for i in range(48):\n",
    "    m_key64[t[i]-1] = k6[i]\n",
    "    \n",
    "for i in range(56):\n",
    "    m_key56[i] = m_key64[parity_bit_drop_table[i]-1]\n",
    "    \n",
    "    "
   ]
  },
  {
   "cell_type": "code",
   "execution_count": 44,
   "id": "personal-victorian",
   "metadata": {},
   "outputs": [
    {
     "name": "stdout",
     "output_type": "stream",
     "text": [
      "['#', '#', '1', '#', '#', '#', '#', '#', '#', '1', '#', '#', '1', '#', '#', '0', '#', '#', '#', '1', '#', '#', '#', '#', '0', '#', '#', '#', '1', '1', '0', '0', '1', '1', '0', '#', '0', '0', '1', '0', '0', '1', '1', '1', '#', '0', '1', '#', '0', '0', '1', '0', '#', '0', '0', '1']\n"
     ]
    }
   ],
   "source": [
    "print(m_key56)"
   ]
  },
  {
   "cell_type": "markdown",
   "id": "checked-smoke",
   "metadata": {},
   "source": [
    "#### For characteristic 2"
   ]
  },
  {
   "cell_type": "code",
   "execution_count": 45,
   "id": "weighted-radical",
   "metadata": {},
   "outputs": [],
   "source": [
    "keys1 = np.zeros((8,64),dtype=int)\n",
    "for i in range(len(inv_perm1)):\n",
    "    for box in range(0,8):\n",
    "        t_s_in_xor = s_in_xor1[i][box*6:box*6+6]\n",
    "        t_s_out_xor = inv_perm1[i][box*4:box*4+4]\n",
    "        t_ex_out1 = ex_out1[2*i][box*6:box*6+6]\n",
    "        \n",
    "        #Finding pairs (beta,beta') such that S(beta)^S(beta') == gamma^gamma'\n",
    "        for a in range(0,64):\n",
    "            a1 = \"{:0>6b}\".format(a)\n",
    "            a2 = bitwise_xor(a1,t_s_in_xor,6)\n",
    "            s_a1_xor_a2 = bitwise_xor( apply_sbox(a1,box+1), apply_sbox(a2,box+1),4)\n",
    "            \n",
    "            #check if S(a1)^S(a2) == gamma^gamma'\n",
    "            if s_a1_xor_a2 == t_s_out_xor:\n",
    "                key = bitwise_xor(t_ex_out1,a1,6)\n",
    "                keys1[box][int(key,2)]+=1\n",
    "    "
   ]
  },
  {
   "cell_type": "code",
   "execution_count": 46,
   "id": "earlier-rabbit",
   "metadata": {},
   "outputs": [],
   "source": [
    "avg1=[0,0,0,0,0,0,0,0]\n",
    "for i in range(8):\n",
    "    avg1[i]= keys1[i].mean()\n",
    "key_set1 =['#'] * 56  \n",
    "k61 = ['#']*48\n",
    "for i in range(8):\n",
    "    max_key_val1 = keys1[i].max()\n",
    "    #if max_key_val1>avg1[i]+200:\n",
    "    if i+1 in [1,2,4,5,6]:\n",
    "        k61[6*i:6*i+6] = [c for c in \"{:0>6b}\".format(np.where(keys1[i]==keys1[i].max())[0][0])] "
   ]
  },
  {
   "cell_type": "code",
   "execution_count": 47,
   "id": "different-elevation",
   "metadata": {},
   "outputs": [],
   "source": [
    "k1=parity_bit_drop_table\n",
    "t1=['#']*48\n",
    "m_key641 = ['#']*64\n",
    "m_key561 = ['#']*56\n",
    "\n",
    "for r in range(1,6+1):\n",
    "    left = k1[0:28]\n",
    "    right = k1[28:]\n",
    "    left = left_shift_key(left, shift_left_table[r-1])\n",
    "    right = left_shift_key(right, shift_left_table[r-1])\n",
    "    k1 = left + right\n",
    "    \n",
    "    for j in range(0,48):\n",
    "        t[j] = k1[key_compression_table[j]-1]\n",
    "\n",
    "for i in range(48):\n",
    "    m_key641[t[i]-1] = k61[i]\n",
    "    \n",
    "for i in range(56):\n",
    "    m_key561[i] = m_key641[parity_bit_drop_table[i]-1]\n"
   ]
  },
  {
   "cell_type": "code",
   "execution_count": 48,
   "id": "european-blair",
   "metadata": {},
   "outputs": [
    {
     "name": "stdout",
     "output_type": "stream",
     "text": [
      "Sbox-1 101101 15 6.6875\n",
      "Sbox-2 110011 43 9.1875\n",
      "Sbox-3 101001 15 7.53125\n",
      "Sbox-4 000111 22 8.59375\n",
      "Sbox-5 110110 18 8.34375\n",
      "Sbox-6 001011 40 9.875\n",
      "Sbox-7 000010 28 9.71875\n",
      "Sbox-8 100011 30 9.9375\n"
     ]
    }
   ],
   "source": [
    "for i,k in enumerate(keys):\n",
    "    print(\"Sbox-\"+str(i+1),\"{:0>6b}\".format(np.where(k==k.max())[0][0]),max(k),avg[i])"
   ]
  },
  {
   "cell_type": "code",
   "execution_count": 49,
   "id": "industrial-india",
   "metadata": {},
   "outputs": [],
   "source": [
    "#101101 110011 100101 000111 110110 001011 000010 100011"
   ]
  },
  {
   "cell_type": "code",
   "execution_count": 50,
   "id": "thorough-cable",
   "metadata": {},
   "outputs": [
    {
     "name": "stdout",
     "output_type": "stream",
     "text": [
      "Sbox-1 101101 16 7.28125\n",
      "Sbox-2 110011 21 7.3125\n",
      "Sbox-3 011110 15 8.125\n",
      "Sbox-4 000111 33 10.46875\n",
      "Sbox-5 110110 17 7.8125\n",
      "Sbox-6 001011 31 10.28125\n",
      "Sbox-7 001111 14 7.0\n",
      "Sbox-8 110010 14 8.0625\n"
     ]
    }
   ],
   "source": [
    "for i,k1 in enumerate(keys1):\n",
    "    print(\"Sbox-\"+str(i+1),\"{:0>6b}\".format(np.where(k1==k1.max())[0][0]),max(k1),avg1[i])"
   ]
  },
  {
   "cell_type": "code",
   "execution_count": null,
   "id": "brilliant-friend",
   "metadata": {},
   "outputs": [],
   "source": []
  },
  {
   "cell_type": "markdown",
   "id": "disciplinary-injection",
   "metadata": {},
   "source": [
    "### Merging both the key sets obtained from each characteristics"
   ]
  },
  {
   "cell_type": "code",
   "execution_count": 25,
   "id": "instrumental-immunology",
   "metadata": {},
   "outputs": [],
   "source": [
    "partial_key = []\n",
    "for i in range(56):\n",
    "    if (m_key56[i] == m_key561[i]):\n",
    "        partial_key.append(m_key56[i])\n",
    "    elif m_key56[i]!='#' and m_key561[i]==\"#\" :\n",
    "        partial_key.append(m_key56[i])\n",
    "    elif m_key56[i]=='#' and m_key561[i]!=\"#\" :\n",
    "        partial_key.append(m_key561[i])\n",
    "    else:\n",
    "        partial_key.append(\"#\")"
   ]
  },
  {
   "cell_type": "code",
   "execution_count": null,
   "id": "passive-private",
   "metadata": {},
   "outputs": [],
   "source": []
  },
  {
   "cell_type": "code",
   "execution_count": null,
   "id": "violent-station",
   "metadata": {},
   "outputs": [],
   "source": []
  },
  {
   "cell_type": "code",
   "execution_count": 26,
   "id": "academic-apparatus",
   "metadata": {},
   "outputs": [],
   "source": [
    "unk_bits =[]\n",
    "for i,c in enumerate(partial_key):\n",
    "    if c == '#':\n",
    "        unk_bits.append(i)\n"
   ]
  },
  {
   "cell_type": "code",
   "execution_count": 27,
   "id": "unlikely-institution",
   "metadata": {},
   "outputs": [
    {
     "data": {
      "text/plain": [
       "[0, 3, 4, 6, 7, 13, 17, 18, 21, 27, 35, 44, 47, 52]"
      ]
     },
     "execution_count": 27,
     "metadata": {},
     "output_type": "execute_result"
    }
   ],
   "source": [
    "unk_bits"
   ]
  },
  {
   "cell_type": "code",
   "execution_count": 28,
   "id": "fantastic-tuesday",
   "metadata": {},
   "outputs": [
    {
     "name": "stdout",
     "output_type": "stream",
     "text": [
      "['#', '1', '1', '#', '#', '1', '#', '#', '0', '1', '0', '1', '1', '#', '1', '0', '0', '#', '#', '1', '1', '#', '1', '1', '0', '0', '0', '#', '1', '1', '0', '0', '1', '1', '0', '#', '0', '0', '1', '0', '0', '1', '1', '1', '#', '0', '1', '#', '0', '0', '1', '0', '#', '0', '0', '1']\n"
     ]
    }
   ],
   "source": [
    "print(partial_key)"
   ]
  },
  {
   "cell_type": "markdown",
   "id": "interesting-volunteer",
   "metadata": {},
   "source": [
    "## Brute-force for remaining bits of key"
   ]
  },
  {
   "cell_type": "code",
   "execution_count": 29,
   "id": "plastic-ordinary",
   "metadata": {},
   "outputs": [],
   "source": [
    "def encrypt(n,key56,rounds):\n",
    "    n = apply_initial_permutation(n)\n",
    "    k=[x for x in key56]\n",
    "    for r in range(1,rounds+1):\n",
    "        R = n[32:]\n",
    "        L = n[:32]\n",
    "        \n",
    "        R1 = apply_expansion(R)\n",
    "        \n",
    "        left = k[0:28]\n",
    "        right = k[28:]\n",
    "        left = left_shift_key(left, shift_left_table[r-1])\n",
    "        right = left_shift_key(right, shift_left_table[r-1])\n",
    "        k = left + right\n",
    "        t=\"\"\n",
    "        for j in range(0,48):\n",
    "            t += k[key_compression_table[j]-1]\n",
    "        key48 = \"\".join(t)\n",
    "        \n",
    "        s_in = bitwise_xor(R1,key48,48)\n",
    "        s_out = \"\"\n",
    "        for i in range(0,48,6):\n",
    "            s_out += apply_sbox(s_in[i:i+6],i//6+1)\n",
    "        \n",
    "        p_out = apply_permutation(s_out)\n",
    "        n = R + bitwise_xor(p_out,L,32) \n",
    "        \n",
    "    #n = n[32:]+n[0:32] \n",
    "    n= apply_final_permutation(n)\n",
    "    return n\n",
    "    "
   ]
  },
  {
   "cell_type": "code",
   "execution_count": null,
   "id": "oriented-logistics",
   "metadata": {},
   "outputs": [],
   "source": []
  },
  {
   "cell_type": "markdown",
   "id": "armed-difference",
   "metadata": {},
   "source": [
    "### Trying all possible combinations of unknown bits of key"
   ]
  },
  {
   "cell_type": "code",
   "execution_count": 30,
   "id": "acute-devil",
   "metadata": {},
   "outputs": [
    {
     "name": "stdout",
     "output_type": "stream",
     "text": [
      "01101110010111100111101100001100110100100111101100100001\n"
     ]
    }
   ],
   "source": [
    "\n",
    "final_key = \"\"\n",
    "l = len(unk_bits)\n",
    "for i in range(2**l):\n",
    "    b = \"{:0>14b}\".format(i)\n",
    "    temp_k = partial_key.copy()\n",
    "    for j in range(l):\n",
    "        temp_k[unk_bits[j]] = b[j]\n",
    "    temp_k = \"\".join(temp_k)\n",
    "    inp = str_to_bin(input_list[0])\n",
    "    \n",
    "    if bin_to_str(encrypt(inp, temp_k,6 )) == output_list[0]:\n",
    "        final_key =temp_k\n",
    "        print(final_key)\n",
    "        break"
   ]
  },
  {
   "cell_type": "code",
   "execution_count": null,
   "id": "pointed-papua",
   "metadata": {},
   "outputs": [],
   "source": []
  },
  {
   "cell_type": "code",
   "execution_count": null,
   "id": "novel-round",
   "metadata": {},
   "outputs": [],
   "source": []
  },
  {
   "cell_type": "markdown",
   "id": "dense-exhibition",
   "metadata": {},
   "source": [
    "## Decrypting password using the obtained key"
   ]
  },
  {
   "cell_type": "code",
   "execution_count": 31,
   "id": "aerial-perth",
   "metadata": {},
   "outputs": [],
   "source": [
    "round_keys={}\n",
    "#final_key = \"01101110010111100111101100001100110100100111101100100001\"\n",
    "k = [x for x in final_key]\n",
    "for r in range(1,6+1):        \n",
    "    left = k[0:28]\n",
    "    right = k[28:]\n",
    "    left = left_shift_key(left, shift_left_table[r-1])\n",
    "    right = left_shift_key(right, shift_left_table[r-1])\n",
    "    k = left + right\n",
    "    t=\"\"\n",
    "    for j in range(0,48):\n",
    "        t += k[key_compression_table[j]-1]\n",
    "    key48 = \"\".join(t)\n",
    "    round_keys[r]=key48\n",
    "  "
   ]
  },
  {
   "cell_type": "code",
   "execution_count": 32,
   "id": "breathing-leonard",
   "metadata": {},
   "outputs": [],
   "source": [
    "def decryption(p,key56,rounds):\n",
    "    p = apply_rev_final_permutation(p)\n",
    "    R = {6:p[32:]}\n",
    "    L = {6:p[:32]}\n",
    "    for r in range(rounds,0,-1):\n",
    "        R[r-1] =L[r]  \n",
    "        ex_out = apply_expansion(R[r-1])\n",
    "        s_in = bitwise_xor(round_keys[r],ex_out,48)\n",
    "        s_out = \"\"\n",
    "        for box in range(8):\n",
    "            s_out += apply_sbox(s_in[box*6:box*6+6], box+1)\n",
    "        p_out = apply_permutation(s_out)\n",
    "        L[r-1] = bitwise_xor(p_out,R[r],32)\n",
    "    return apply_rev_initial_permutation(L[0]+R[0])"
   ]
  },
  {
   "cell_type": "code",
   "execution_count": 33,
   "id": "inside-christmas",
   "metadata": {},
   "outputs": [],
   "source": [
    "encrypted_password='ourngluhfosjqkqskstmkphnjphfhluq'"
   ]
  },
  {
   "cell_type": "code",
   "execution_count": 34,
   "id": "systematic-story",
   "metadata": {},
   "outputs": [],
   "source": [
    "d= decryption(str_to_bin(encrypted_password[:16]),final_key,6) + decryption(str_to_bin(encrypted_password[16:]),final_key,6)"
   ]
  },
  {
   "cell_type": "code",
   "execution_count": 35,
   "id": "external-scroll",
   "metadata": {},
   "outputs": [
    {
     "data": {
      "text/plain": [
       "'01101110011011000111000001101101011010010110001101100010011010100110101001110001001100000011000000110000001100000011000000110000'"
      ]
     },
     "execution_count": 35,
     "metadata": {},
     "output_type": "execute_result"
    }
   ],
   "source": [
    "d"
   ]
  },
  {
   "cell_type": "code",
   "execution_count": 36,
   "id": "jewish-motion",
   "metadata": {
    "scrolled": true
   },
   "outputs": [
    {
     "data": {
      "text/plain": [
       "'nlpmicbjjq000000'"
      ]
     },
     "execution_count": 36,
     "metadata": {},
     "output_type": "execute_result"
    }
   ],
   "source": [
    "ans=\"\"\n",
    "for i in range(0,len(d),8):\n",
    "    s =d[i:i+8]\n",
    "    ans += chr(int(s,2))\n",
    "ans"
   ]
  },
  {
   "cell_type": "code",
   "execution_count": 37,
   "id": "extraordinary-elimination",
   "metadata": {},
   "outputs": [
    {
     "data": {
      "text/plain": [
       "{1: '111011000100111100000111100011000010100100111011',\n",
       " 2: '011011110011011101100010101101010100010110110001',\n",
       " 3: '111010101101010011101101110010110000101001000011',\n",
       " 4: '110110011100001101011010110101101110001100011100',\n",
       " 5: '001001001101101110111011001100010001011111001100',\n",
       " 6: '101101110011100101000111110110001011000010100011'}"
      ]
     },
     "execution_count": 37,
     "metadata": {},
     "output_type": "execute_result"
    }
   ],
   "source": [
    "round_keys"
   ]
  },
  {
   "cell_type": "code",
   "execution_count": null,
   "id": "present-conversation",
   "metadata": {},
   "outputs": [],
   "source": []
  },
  {
   "cell_type": "code",
   "execution_count": null,
   "id": "caring-gilbert",
   "metadata": {},
   "outputs": [],
   "source": []
  },
  {
   "cell_type": "code",
   "execution_count": null,
   "id": "general-seller",
   "metadata": {},
   "outputs": [],
   "source": []
  },
  {
   "cell_type": "code",
   "execution_count": null,
   "id": "republican-tablet",
   "metadata": {},
   "outputs": [],
   "source": []
  }
 ],
 "metadata": {
  "kernelspec": {
   "display_name": "Python 3",
   "language": "python",
   "name": "python3"
  },
  "language_info": {
   "codemirror_mode": {
    "name": "ipython",
    "version": 3
   },
   "file_extension": ".py",
   "mimetype": "text/x-python",
   "name": "python",
   "nbconvert_exporter": "python",
   "pygments_lexer": "ipython3",
   "version": "3.8.8"
  }
 },
 "nbformat": 4,
 "nbformat_minor": 5
}
