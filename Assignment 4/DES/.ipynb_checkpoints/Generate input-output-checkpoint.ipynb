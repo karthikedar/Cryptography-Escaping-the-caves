{
 "cells": [
  {
   "cell_type": "code",
   "execution_count": 23,
   "id": "sexual-dispatch",
   "metadata": {},
   "outputs": [],
   "source": [
    "import numpy as np\n",
    "import random\n",
    "from itertools import combinations\n",
    "from itertools import permutations"
   ]
  },
  {
   "cell_type": "code",
   "execution_count": 2,
   "id": "simple-cookbook",
   "metadata": {},
   "outputs": [],
   "source": [
    "rev_initial_permutation = [[40,8,48,16,56,24,64,32],\n",
    "                    [39,7,47,15,55,23,63,31],\n",
    "                    [38,6,46,14,54,22,62,30],\n",
    "                    [37,5,45,13,53,21,61,29],\n",
    "                    [36,4,44,12,52,20,60,28],\n",
    "                    [35,3,43,11,51,19,59,27],\n",
    "                    [34,2,42,10,50,18,58,26],\n",
    "                    [33,1,41,9,49,17,57,25]]"
   ]
  },
  {
   "cell_type": "code",
   "execution_count": 4,
   "id": "affected-cannon",
   "metadata": {},
   "outputs": [],
   "source": [
    "# def generate_input(diff,x):\n",
    "#     inputs =[]\n",
    "#     plain= \"\"\n",
    "#     for i in range(x):\n",
    "#         plain=\"\"\n",
    "#         for j in range(16):\n",
    "#             plain += \"\".join(random.choices([c for c in 'fghijklmnopqrstu']))\n",
    "        \n",
    "        \n",
    "#         t1 = str_to_bin(plain)\n",
    "#         t2 = bitwise_xor(t1,diff,64)\n",
    "        \n",
    "#         t1 = \"\".join(list(str(c) for c in t1))\n",
    "#         t2 = \"\".join(list(str(c) for c in t2))\n",
    "\n",
    "#         inputs.append(bin_to_str(t1))\n",
    "#         inputs.append(bin_to_str(t2))\n",
    "#     return inputs\n",
    "\n",
    "def hex_to_bin(n):\n",
    "    n=n.replace(\" \",\"\")\n",
    "    s= \"\"\n",
    "    for c in n:\n",
    "        if c.isalpha():\n",
    "            c = ord(c.lower())-87\n",
    "        s += \"{:0>4b}\".format(int(c))\n",
    "    return s\n",
    "\n",
    "def bin_to_hex(n):\n",
    "    s=\"\"\n",
    "    for i in range(0,len(n),4):\n",
    "        s += \"{:x}\".format(int(n[i:i+4],2))\n",
    "    return s\n",
    "\n",
    "def bin_to_str(n):\n",
    "    t=\"\"\n",
    "    for i in range(0,len(n),4):\n",
    "        t += chr(ord('f') + int(n[i:i+4],2) )\n",
    "    return t\n",
    "\n",
    "def str_to_bin(n):\n",
    "    t=\"\"\n",
    "    for i in n:\n",
    "        t += \"{:0>4b}\".format(ord(i) - 102) \n",
    "    return t\n",
    "\n",
    "def bitwise_xor(a,b,l):\n",
    "    t=\"\"\n",
    "    for i in range(l):\n",
    "        t += str( int(a[i]) ^ int(b[i]))\n",
    "    return t\n",
    "\n",
    "def apply_rev_initial_permutation(n):\n",
    "    n = n.replace(\" \",\"\")\n",
    "    if len(n)==16:\n",
    "        n = hex_to_bin(n)\n",
    "    t = \"\"\n",
    "    for i,c in enumerate(n):\n",
    "        t += n[rev_initial_permutation[i//8][i%8]-1]\n",
    "    return t\n",
    "\n",
    "\n",
    "def generate_cipher_via_ssh():\n",
    "    out = !sshpass -p caesar ssh -tt student@65.0.124.36 < in.txt\n",
    "    search = 'Slowly, a new text starts appearing on the screen. It reads ...'\n",
    "    x=out.index(search)\n",
    "    out = out[x:]\n",
    "    output_list = [] \n",
    "    for i,s in enumerate(out):\n",
    "        if s==search:\n",
    "            output_list.append(out[i+1][2:])\n",
    "    return output_list"
   ]
  },
  {
   "cell_type": "code",
   "execution_count": 41,
   "id": "expanded-rendering",
   "metadata": {},
   "outputs": [],
   "source": [
    "def generate_input(diff,x):\n",
    "    inputs =[]\n",
    "    for i in range(x):     \n",
    "        t1 = random.choices(\"01\",k=64)\n",
    "        t2 = bitwise_xor(t1,diff,64)\n",
    "        \n",
    "        t1 = \"\".join(list(str(c) for c in t1))\n",
    "        t2 = \"\".join(list(str(c) for c in t2))\n",
    "\n",
    "        inputs.append(bin_to_str(t1))\n",
    "        inputs.append(bin_to_str(t2))\n",
    "    return inputs"
   ]
  },
  {
   "cell_type": "markdown",
   "id": "solar-lambda",
   "metadata": {},
   "source": [
    "## For characteristic 1"
   ]
  },
  {
   "cell_type": "code",
   "execution_count": 42,
   "id": "arbitrary-dollar",
   "metadata": {},
   "outputs": [],
   "source": [
    "fin_per = apply_rev_initial_permutation(\"40 08 00 00 04 00 00 00\")#inverse initial\n",
    "input_list= generate_input(fin_per,1000)"
   ]
  },
  {
   "cell_type": "code",
   "execution_count": null,
   "id": "plain-blend",
   "metadata": {},
   "outputs": [],
   "source": []
  },
  {
   "cell_type": "markdown",
   "id": "nasty-spank",
   "metadata": {},
   "source": [
    "### Write input commands into in.txt "
   ]
  },
  {
   "cell_type": "code",
   "execution_count": 43,
   "id": "olive-commodity",
   "metadata": {},
   "outputs": [],
   "source": [
    "intxt = ['CryptoCreeks', 'TanWasDeep', '4','read', 'password ', 'c']\n",
    "for s in input_list:\n",
    "    intxt.extend([s,'c'])\n",
    "    \n",
    "intxt.extend(['back','exit'])\n",
    "file = open(\"in.txt\",\"w\")\n",
    "for i in intxt:\n",
    "    file.write(i)\n",
    "    file.write(\"\\n\")\n",
    "file.close()"
   ]
  },
  {
   "cell_type": "markdown",
   "id": "north-envelope",
   "metadata": {},
   "source": [
    "### Run SSH script to capture ciphertext"
   ]
  },
  {
   "cell_type": "code",
   "execution_count": 44,
   "id": "ruled-asbestos",
   "metadata": {},
   "outputs": [],
   "source": [
    "output_list = generate_cipher_via_ssh()\n",
    "password = output_list.pop(0)"
   ]
  },
  {
   "cell_type": "code",
   "execution_count": 45,
   "id": "comfortable-calgary",
   "metadata": {},
   "outputs": [
    {
     "data": {
      "text/plain": [
       "2000"
      ]
     },
     "execution_count": 45,
     "metadata": {},
     "output_type": "execute_result"
    }
   ],
   "source": [
    "len(output_list)\n"
   ]
  },
  {
   "cell_type": "code",
   "execution_count": null,
   "id": "honey-uncertainty",
   "metadata": {},
   "outputs": [],
   "source": []
  },
  {
   "cell_type": "markdown",
   "id": "different-wyoming",
   "metadata": {},
   "source": [
    "### Store plaintext and corresponding ciphertext "
   ]
  },
  {
   "cell_type": "code",
   "execution_count": 46,
   "id": "under-think",
   "metadata": {},
   "outputs": [],
   "source": [
    "file = open(\"plaintext.txt\",\"w\")\n",
    "for i in input_list:\n",
    "    file.write(i)\n",
    "    file.write(\"\\n\")\n",
    "file.close()\n",
    "\n",
    "file = open(\"ciphertext.txt\",\"w\")\n",
    "for i in output_list:\n",
    "    file.write(i)\n",
    "    file.write(\"\\n\")\n",
    "file.close()"
   ]
  },
  {
   "cell_type": "code",
   "execution_count": null,
   "id": "hybrid-cutting",
   "metadata": {},
   "outputs": [],
   "source": []
  },
  {
   "cell_type": "code",
   "execution_count": null,
   "id": "injured-raising",
   "metadata": {},
   "outputs": [],
   "source": []
  },
  {
   "cell_type": "markdown",
   "id": "arranged-heavy",
   "metadata": {},
   "source": [
    "## For Characteristic 2"
   ]
  },
  {
   "cell_type": "code",
   "execution_count": 47,
   "id": "running-frontier",
   "metadata": {},
   "outputs": [],
   "source": [
    "fin_per1 = apply_rev_initial_permutation(\"00 20 00 08 00 00 04 00\")\n",
    "input_list1= generate_input(fin_per1,1000)"
   ]
  },
  {
   "cell_type": "code",
   "execution_count": 48,
   "id": "surprising-conjunction",
   "metadata": {},
   "outputs": [
    {
     "data": {
      "text/plain": [
       "'0000080100100000'"
      ]
     },
     "execution_count": 48,
     "metadata": {},
     "output_type": "execute_result"
    }
   ],
   "source": [
    "bin_to_hex(fin_per1)"
   ]
  },
  {
   "cell_type": "markdown",
   "id": "hidden-light",
   "metadata": {},
   "source": [
    "### Write input commands into in1.txt"
   ]
  },
  {
   "cell_type": "code",
   "execution_count": 49,
   "id": "regular-madness",
   "metadata": {},
   "outputs": [],
   "source": [
    "intxt1 = ['CryptoCreeks', 'TanWasDeep', '4','read', 'password ', 'c']\n",
    "for s in input_list1:\n",
    "    intxt1.extend([s,'c'])\n",
    "    \n",
    "intxt1.extend(['back','exit'])\n",
    "file = open(\"in.txt\",\"w\")\n",
    "for i in intxt1:\n",
    "    file.write(i)\n",
    "    file.write(\"\\n\")\n",
    "file.close()"
   ]
  },
  {
   "cell_type": "markdown",
   "id": "shaped-timing",
   "metadata": {},
   "source": [
    "### Run SSH script to capture ciphertext"
   ]
  },
  {
   "cell_type": "code",
   "execution_count": 50,
   "id": "received-benefit",
   "metadata": {},
   "outputs": [],
   "source": [
    "output_list1 = generate_cipher_via_ssh()\n",
    "password = output_list1.pop(0)"
   ]
  },
  {
   "cell_type": "code",
   "execution_count": null,
   "id": "liked-athletics",
   "metadata": {},
   "outputs": [],
   "source": []
  },
  {
   "cell_type": "markdown",
   "id": "recorded-edinburgh",
   "metadata": {},
   "source": [
    "### Store plaintext and corresponding ciphertext"
   ]
  },
  {
   "cell_type": "code",
   "execution_count": 51,
   "id": "sorted-supervision",
   "metadata": {},
   "outputs": [],
   "source": [
    "file = open(\"plaintext1.txt\",\"w\")\n",
    "for i in input_list1:\n",
    "    file.write(i)\n",
    "    file.write(\"\\n\")\n",
    "file.close()\n",
    "\n",
    "file = open(\"ciphertext1.txt\",\"w\")\n",
    "for i in output_list1:\n",
    "    file.write(i)\n",
    "    file.write(\"\\n\")\n",
    "file.close()"
   ]
  },
  {
   "cell_type": "code",
   "execution_count": 52,
   "id": "vital-briefing",
   "metadata": {},
   "outputs": [
    {
     "data": {
      "text/plain": [
       "'ourngluhfosjqkqskstmkphnjphfhluq'"
      ]
     },
     "execution_count": 52,
     "metadata": {},
     "output_type": "execute_result"
    }
   ],
   "source": [
    "password"
   ]
  },
  {
   "cell_type": "code",
   "execution_count": null,
   "id": "anticipated-thong",
   "metadata": {},
   "outputs": [],
   "source": []
  },
  {
   "cell_type": "code",
   "execution_count": null,
   "id": "coupled-voltage",
   "metadata": {},
   "outputs": [],
   "source": []
  },
  {
   "cell_type": "code",
   "execution_count": null,
   "id": "arranged-mambo",
   "metadata": {},
   "outputs": [],
   "source": []
  },
  {
   "cell_type": "code",
   "execution_count": null,
   "id": "bearing-cannon",
   "metadata": {},
   "outputs": [],
   "source": []
  }
 ],
 "metadata": {
  "kernelspec": {
   "display_name": "Python 3",
   "language": "python",
   "name": "python3"
  },
  "language_info": {
   "codemirror_mode": {
    "name": "ipython",
    "version": 3
   },
   "file_extension": ".py",
   "mimetype": "text/x-python",
   "name": "python",
   "nbconvert_exporter": "python",
   "pygments_lexer": "ipython3",
   "version": "3.8.8"
  }
 },
 "nbformat": 4,
 "nbformat_minor": 5
}
